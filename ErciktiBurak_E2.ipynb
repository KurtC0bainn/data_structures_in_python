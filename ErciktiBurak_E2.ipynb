{
 "cells": [
  {
   "cell_type": "markdown",
   "id": "60d68c81",
   "metadata": {},
   "source": [
    "# Burak ERÇIKTI ♦ 20180808082\n",
    "# Scientific Programming → Exercises(2)"
   ]
  },
  {
   "cell_type": "markdown",
   "id": "96baeb99",
   "metadata": {},
   "source": [
    "# ۩ 4 → Lists"
   ]
  },
  {
   "cell_type": "markdown",
   "id": "cd2bcdfb",
   "metadata": {},
   "source": [
    "**► Exercise 4.1 → Sh☻rt questi☻ns◄**"
   ]
  },
  {
   "cell_type": "code",
   "execution_count": 10,
   "id": "5a73c626",
   "metadata": {},
   "outputs": [
    {
     "name": "stdout",
     "output_type": "stream",
     "text": [
      "▀▄List elements▄▀\n",
      "1\n",
      "2\n",
      "3\n",
      "▄▀Reversed list elements▀▄\n",
      "3\n",
      "2\n",
      "1\n",
      "▀▄Length of list▄▀\n",
      "3\n"
     ]
    }
   ],
   "source": [
    "def list_elements(_list):\n",
    "    print('▀▄List elements▄▀')\n",
    "    for ele in _list:\n",
    "        print(ele)\n",
    "        \n",
    "def reverse_list(_list):\n",
    "    print('▄▀Reversed list elements▀▄')\n",
    "    for ele in reversed(_list):\n",
    "        print(ele)\n",
    "        \n",
    "def len_list(_list):\n",
    "    index = 0\n",
    "    print('▀▄Length of list▄▀')\n",
    "    for ele in _list:\n",
    "        index += 1\n",
    "    return index\n",
    "        \n",
    "_list = [1,2,3]\n",
    "\n",
    "list_elements(_list)\n",
    "reverse_list(_list)\n",
    "print(len_list(_list))"
   ]
  },
  {
   "cell_type": "markdown",
   "id": "73759623",
   "metadata": {},
   "source": [
    "**► Exercise 4.2 → C☻pying lists◄**"
   ]
  },
  {
   "cell_type": "code",
   "execution_count": 11,
   "id": "8fe21399",
   "metadata": {},
   "outputs": [
    {
     "name": "stdout",
     "output_type": "stream",
     "text": [
      "▌Initial state of list \"a\"▌\n",
      "['Cobain', 7, True, 5.0, 7]\n",
      "\n",
      "▌b▌\n",
      "['Cobain', 7, True, 5.0, 7]\n",
      "\n",
      "▌Changed the 2nd index of b to 0▌\n",
      "['Cobain', 0, True, 5.0, 7]\n",
      "\n",
      "▌List a▌\n",
      "['Cobain', 0, True, 5.0, 7]\n",
      "\n",
      "▌Initial state of list \"c\"▌\n",
      "['Cobain', 0, True, 5.0, 7]\n",
      "\n",
      "▌Changed the 3nd index of c to False▌\n",
      "['Cobain', 0, False, 5.0, 7]\n",
      "\n",
      "▌Final state of list \"a\"▌\n",
      "['Cobain', 0, True, 5.0, 7]\n",
      "\n",
      "▌First element is 0▌\n",
      "[0, 'Hendrix', '13']\n"
     ]
    }
   ],
   "source": [
    "# (_a)\n",
    "# In Pyth●n → list is an ●rdered, changeable, duplicates & indexed \n",
    "# collection of objects. It stores multiple elements in a single variables.\n",
    "# A list can store different data types.\n",
    "a = ['Cobain', 7, True, 5.0 , 7]\n",
    "print('▌Initial state of list \"a\"▌')\n",
    "# List of a\n",
    "print(a)\n",
    "print()\n",
    "# (_b)\n",
    "# list a copied to b\n",
    "b = a\n",
    "print('▌b▌')\n",
    "print(b)\n",
    "print()\n",
    "# (_c)\n",
    "b[1] = 0\n",
    "print('▌Changed the 2nd index of b to 0▌')\n",
    "print(b)\n",
    "print()\n",
    "# (_d)\n",
    "# Since the 2nd element of list b has changed, \n",
    "# the 2nd element of list a has changed.\n",
    "print('▌List a▌')\n",
    "print(a)\n",
    "print()\n",
    "# (_e)\n",
    "# final state list a copied to c\n",
    "c = a[:]\n",
    "print('▌Initial state of list \"c\"▌')\n",
    "print(c)\n",
    "print()\n",
    "# (_f)\n",
    "c[2] = False\n",
    "print('▌Changed the 3nd index of c to False▌')\n",
    "print(c)\n",
    "print()\n",
    "# (_g)\n",
    "# List a not change.\n",
    "print('▌Final state of list \"a\"▌')\n",
    "print(a)\n",
    "print()\n",
    "\n",
    "# bonus\n",
    "def zero_starting(l):\n",
    "    l[0] = 0\n",
    "    return l\n",
    "\n",
    "# The list change with the function\n",
    "print('▌First element is 0▌')\n",
    "l = ['x', 'Hendrix', '13']\n",
    "print(zero_starting(l))"
   ]
  },
  {
   "cell_type": "markdown",
   "id": "8a3f3911",
   "metadata": {},
   "source": [
    "**► Exercise 4.3 → Lists ☻f lists◄**"
   ]
  },
  {
   "cell_type": "code",
   "execution_count": 12,
   "id": "bf54dbb6",
   "metadata": {},
   "outputs": [
    {
     "name": "stdout",
     "output_type": "stream",
     "text": [
      "[[], [], []]\n",
      "[[], [], []]\n",
      "\n",
      "There is no difference, a and b give the same output.\n"
     ]
    }
   ],
   "source": [
    "a = [1, 3, 2]\n",
    "a = [[]] * 3\n",
    "print(a)\n",
    "\n",
    "b = [3, 5, 6]\n",
    "# \"_\" is a variable in looping\n",
    "b = [[] for _ in range(3)]\n",
    "print(b)\n",
    "\n",
    "if a == b:\n",
    "    print(\"\\nThere is no difference, a and b give the same output.\")\n",
    "else:\n",
    "    print(\"Different each other.\")"
   ]
  },
  {
   "cell_type": "markdown",
   "id": "e0c6ee52",
   "metadata": {},
   "source": [
    "**► Exercise 4.4→ Lists ☻f functions◄**"
   ]
  },
  {
   "cell_type": "code",
   "execution_count": 13,
   "id": "e3c25481",
   "metadata": {},
   "outputs": [
    {
     "name": "stdout",
     "output_type": "stream",
     "text": [
      "['B.B.', 0, 'King']\n"
     ]
    }
   ],
   "source": [
    "def starting_zero(l, i):\n",
    "    l[i] = 0\n",
    "    return l\n",
    "\n",
    "l = ['B.B.', '90', 'King']\n",
    "print(starting_zero(l, 1))"
   ]
  },
  {
   "cell_type": "markdown",
   "id": "42ab3a4c",
   "metadata": {},
   "source": [
    "**► Exercise 4.5 → Primes◄**"
   ]
  },
  {
   "cell_type": "code",
   "execution_count": 14,
   "id": "7264d5a2",
   "metadata": {},
   "outputs": [
    {
     "name": "stdout",
     "output_type": "stream",
     "text": [
      "Primes up to → {101}\n",
      "[2, 3, 5, 7, 11, 13, 17, 19, 23, 29, 31, 37, 41, 43, 47, 53, 59, 61, 67, 71, 73, 79, 83, 89, 97, 101]\n"
     ]
    }
   ],
   "source": [
    "def primes_list(n):\n",
    "    print(\"Primes up to → {\" + str(n) + \"}\")\n",
    "    list = []\n",
    "    for n in range(2, n + 1):\n",
    "        # n must be greater than 1 coz first prime is 2\n",
    "        if n < 2:\n",
    "            break\n",
    "        else:\n",
    "            if n > 1:\n",
    "                for i in range(2, n//2 + 1):\n",
    "                    if n % i == 0:\n",
    "                        break \n",
    "                else:\n",
    "                    list.append(n)\n",
    "    return list\n",
    "\n",
    "print(primes_list(101))"
   ]
  },
  {
   "cell_type": "code",
   "execution_count": 15,
   "id": "0640e0ff",
   "metadata": {},
   "outputs": [
    {
     "name": "stdout",
     "output_type": "stream",
     "text": [
      "♦ 1. prime ♦ \n",
      "[2]\n",
      "♦ 2. prime ♦ \n",
      "[2, 3]\n",
      "♦ 3. prime ♦ \n",
      "[2, 3, 5]\n",
      "♦ 4. prime ♦ \n",
      "[2, 3, 5, 7]\n",
      "♦ 5. prime ♦ \n",
      "[2, 3, 5, 7, 11]\n",
      "♦ 6. prime ♦ \n",
      "[2, 3, 5, 7, 11, 13]\n",
      "♦ 7. prime ♦ \n",
      "[2, 3, 5, 7, 11, 13, 17]\n",
      "♦ 8. prime ♦ \n",
      "[2, 3, 5, 7, 11, 13, 17, 19]\n",
      "♦ 9. prime ♦ \n",
      "[2, 3, 5, 7, 11, 13, 17, 19, 23]\n",
      "♦ 10. prime ♦ \n",
      "[2, 3, 5, 7, 11, 13, 17, 19, 23, 29]\n",
      "♦ 11. prime ♦ \n",
      "[2, 3, 5, 7, 11, 13, 17, 19, 23, 29, 31]\n",
      "♦ 12. prime ♦ \n",
      "[2, 3, 5, 7, 11, 13, 17, 19, 23, 29, 31, 37]\n",
      "♦ 13. prime ♦ \n",
      "[2, 3, 5, 7, 11, 13, 17, 19, 23, 29, 31, 37, 41]\n",
      "♦ 14. prime ♦ \n",
      "[2, 3, 5, 7, 11, 13, 17, 19, 23, 29, 31, 37, 41, 43]\n",
      "♦ 15. prime ♦ \n",
      "[2, 3, 5, 7, 11, 13, 17, 19, 23, 29, 31, 37, 41, 43, 47]\n",
      "♦ 16. prime ♦ \n",
      "[2, 3, 5, 7, 11, 13, 17, 19, 23, 29, 31, 37, 41, 43, 47, 53]\n",
      "♦ 17. prime ♦ \n",
      "[2, 3, 5, 7, 11, 13, 17, 19, 23, 29, 31, 37, 41, 43, 47, 53, 59]\n",
      "♦ 18. prime ♦ \n",
      "[2, 3, 5, 7, 11, 13, 17, 19, 23, 29, 31, 37, 41, 43, 47, 53, 59, 61]\n"
     ]
    }
   ],
   "source": [
    "def first_prime(n):\n",
    "    x = 0\n",
    "    # I initialized with first prime number\n",
    "    prime_number = 2\n",
    "    list = []\n",
    "    while x < n:\n",
    "        # I use check point\n",
    "        is_active = True\n",
    "        for i in range(2, prime_number//2 + 1):\n",
    "            if prime_number % i == 0:\n",
    "                is_active = False\n",
    "        if is_active == True:\n",
    "            x += 1\n",
    "            list.append(prime_number)\n",
    "            print(\"♦ \" + str(x) + \". prime ♦ \")\n",
    "            print(list)\n",
    "        prime_number += 1\n",
    "\n",
    "first_prime(18)"
   ]
  },
  {
   "cell_type": "markdown",
   "id": "ecbde2ce",
   "metadata": {},
   "source": [
    "**► Exercise 4.6 → List c●mprehensi●ns◄**"
   ]
  },
  {
   "cell_type": "code",
   "execution_count": 16,
   "id": "d57a4f49",
   "metadata": {},
   "outputs": [
    {
     "name": "stdout",
     "output_type": "stream",
     "text": [
      "[[1, 1], [1, 2], [1, 3], [1, 4], [1, 5], [2, 1], [2, 2], [2, 3], [2, 4], [2, 5], [3, 1], [3, 2], [3, 3], [3, 4], [3, 5], [4, 1], [4, 2], [4, 3], [4, 4], [4, 5], [5, 1], [5, 2], [5, 3], [5, 4], [5, 5]]\n"
     ]
    }
   ],
   "source": [
    "# (_a)\n",
    "\n",
    "def comprehensions_list(i, j):\n",
    "    # This comprehensions for nested for loops.\n",
    "    # Here I can define a as inner loop and b as outer loop.\n",
    "    _list = [[a, b] for a in range(1, i + 1) for b in range(1, j + 1)]\n",
    "    # result would be a list of lists\n",
    "    return _list\n",
    "print(comprehensions_list(5, 5))"
   ]
  },
  {
   "cell_type": "code",
   "execution_count": 17,
   "id": "c07c4bdc",
   "metadata": {},
   "outputs": [
    {
     "name": "stdout",
     "output_type": "stream",
     "text": [
      "[[1, 2], [1, 3], [1, 4], [1, 5], [1, 6], [1, 7], [1, 8], [2, 3], [2, 4], [2, 5], [2, 6], [2, 7], [2, 8], [3, 4], [3, 5], [3, 6], [3, 7], [3, 8], [4, 5], [4, 6], [4, 7], [4, 8], [5, 6], [5, 7], [5, 8], [6, 7], [6, 8], [7, 8]]\n"
     ]
    }
   ],
   "source": [
    "# (_b)\n",
    "# [i,j]\n",
    "def comprehensions_list(i, j):\n",
    "     # with i < j\n",
    "     # Adds only cases where a is less than b to the list.\n",
    "    _list = [[a, b] for a in range(1, i + 1) for b in range(1, j + 1) if a < b]\n",
    "    return _list\n",
    "print(comprehensions_list(8, 8))"
   ]
  },
  {
   "cell_type": "code",
   "execution_count": 18,
   "id": "5bc2c4a3",
   "metadata": {},
   "outputs": [
    {
     "name": "stdout",
     "output_type": "stream",
     "text": [
      "[[2, 1], [3, 1], [3, 2], [4, 1], [4, 2], [4, 3], [5, 1], [5, 2], [5, 3], [5, 4], [6, 1], [6, 2], [6, 3], [6, 4], [6, 5], [7, 1], [7, 2], [7, 3], [7, 4], [7, 5], [7, 6], [8, 1], [8, 2], [8, 3], [8, 4], [8, 5], [8, 6], [8, 7], [9, 1], [9, 2], [9, 3], [9, 4], [9, 5], [9, 6], [9, 7], [9, 8], [10, 1], [10, 2], [10, 3], [10, 4], [10, 5], [10, 6], [10, 7], [10, 8], [10, 9], [11, 1], [11, 2], [11, 3], [11, 4], [11, 5], [11, 6], [11, 7], [11, 8], [11, 9], [11, 10]]\n"
     ]
    }
   ],
   "source": [
    "# (_c)\n",
    "\n",
    "from math import sqrt\n",
    "# Here I applied the prime numbers control code I wrote in Exercise 1\n",
    "# with the list comprehension method.\n",
    "def is_prime(n):\n",
    "    # I wrote my code to control prime numbers that \n",
    "    # I wrote in exercises 1 in list comprehension method.\n",
    "    _list = [i for i in range(2, int(sqrt(n) + 1)) if n > 1 if n % i == 0]\n",
    "    result = [False if len(_list) > 1 else True]\n",
    "    return result\n",
    "\n",
    "def comprehensions_list(i, j):\n",
    "    # i + j with both i and j prime and i > j.\n",
    "    # Adds only cases where a is greater than b to the list.\n",
    "    _list = [[a, b] for a in range(1, i + 1) for b in range(1, j + 1) if is_prime(a) if is_prime(b) if a > b]\n",
    "    return _list\n",
    "\n",
    "print(comprehensions_list(11, 11))"
   ]
  },
  {
   "cell_type": "code",
   "execution_count": 19,
   "id": "07a2986d",
   "metadata": {},
   "outputs": [
    {
     "name": "stdout",
     "output_type": "stream",
     "text": [
      "68\n"
     ]
    }
   ],
   "source": [
    "# (_d)\n",
    "\n",
    "# x = 3, i=0, j=2 | i=1, j=4 | i=2, j=6\n",
    "def arbitrary_poly(x, list):\n",
    "    # (3 ** 0) * 2 | (3 ** 1) * 4 | (3 ** 2) * 6\n",
    "     return sum([x ** i * j for i,j in enumerate(list)])\n",
    "\n",
    "x = 3\n",
    "list = [2, 4, 6]\n",
    "print(arbitrary_poly(x, list))"
   ]
  },
  {
   "cell_type": "markdown",
   "id": "27fd6e18",
   "metadata": {},
   "source": [
    "**► Exercise 4.7 → Filter◄**"
   ]
  },
  {
   "cell_type": "code",
   "execution_count": 20,
   "id": "198fb0c3",
   "metadata": {},
   "outputs": [
    {
     "name": "stdout",
     "output_type": "stream",
     "text": [
      "◙ Under 30 years old with myfilter() ◙\n",
      "[['Hindistan', 27.9], ['Jamaica', 26], ['Irak', 20], ['Uganda', 15.8]]\n",
      "\n",
      "◙ Over 30 years old with filter() ◙\n",
      "{'japan →': 47.3, 'italy': 45.5, 'Hollanda': 42.6, 'Birleşik Krallık': 40.5, 'İzlanda': 36.5, 'Turkey': 30.9}\n"
     ]
    }
   ],
   "source": [
    "# Median Age by Country\n",
    "median_age_country = [\n",
    "    ['japan →', 47.3],\n",
    "    ['italy', 45.5],\n",
    "    ['Hollanda', 42.6],\n",
    "    ['Birleşik Krallık', 40.5],\n",
    "    ['İzlanda', 36.5],\n",
    "    ['Turkey', 30.9],\n",
    "    ['Hindistan', 27.9],\n",
    "    ['Jamaica', 26],\n",
    "    ['Irak', 20],\n",
    "    ['Uganda', 15.8]]\n",
    "\n",
    "def myfilter(function, ite):\n",
    "    return [i for i in median_age_country if function(i)]\n",
    "\n",
    "print(\"◙ Under 30 years old with myfilter() ◙\")\n",
    "print(myfilter(lambda l: l[1] < 30, median_age_country))\n",
    "print()\n",
    "\n",
    "# I used lambda expression because\n",
    "# it is a function definition that takes arguments.\n",
    "# age_list will contain countries with a Median Age greater than 30.\n",
    "age_list = filter(lambda l: l[1] > 30, median_age_country)\n",
    "print(\"◙ Over 30 years old with filter() ◙\")\n",
    "print(dict(age_list))"
   ]
  },
  {
   "cell_type": "markdown",
   "id": "f546a7b6",
   "metadata": {},
   "source": [
    "**► Exercise 4.8 → Flatten a list ●f lists◄**"
   ]
  },
  {
   "cell_type": "code",
   "execution_count": 21,
   "id": "e70d876b",
   "metadata": {},
   "outputs": [
    {
     "name": "stdout",
     "output_type": "stream",
     "text": [
      "[1, 3, 3, 6, 7, 8]\n"
     ]
    }
   ],
   "source": [
    "def flatten_list(sub_list):\n",
    "    combine = [b for a in sub_list for b in a ]\n",
    "    return combine\n",
    "\n",
    "sub_list = [[1, 3], [3, 6], [7, 8]]\n",
    "print(flatten_list(sub_list))\n"
   ]
  },
  {
   "cell_type": "markdown",
   "id": "6d7f8297",
   "metadata": {},
   "source": [
    "**► Exercise 4.9 → Finding the l☻ngest w☻rd◄**"
   ]
  },
  {
   "cell_type": "code",
   "execution_count": 22,
   "id": "b13c86bb",
   "metadata": {},
   "outputs": [
    {
     "name": "stdout",
     "output_type": "stream",
     "text": [
      "[['today???']]\n"
     ]
    }
   ],
   "source": [
    "def giraffe_word(_txt):\n",
    "    # split() splits a string into a list.\n",
    "    _words = _txt.split()\n",
    "    # len() helps me find the maximum.\n",
    "    longest_str = len(max(_words, key = len))\n",
    "    # iterate word by word\n",
    "    _list = [i for i in _words if len(i) >= longest_str]\n",
    "    # if there is more than one longest word, I print the last long word.\n",
    "    final = [_list[1:] if len(_list) > 1 else _list]\n",
    "    # If I want to list more than one long word, I just return \"_list\".\n",
    "    return final\n",
    "         \n",
    "txt = 'Hello, how was the football match earlier today???'\n",
    "print(giraffe_word(txt))"
   ]
  },
  {
   "cell_type": "markdown",
   "id": "52f02ee5",
   "metadata": {},
   "source": [
    "**► Exercise 4.10 → C●llatz sequence◄**"
   ]
  },
  {
   "cell_type": "code",
   "execution_count": 23,
   "id": "de18cb94",
   "metadata": {},
   "outputs": [
    {
     "name": "stdout",
     "output_type": "stream",
     "text": [
      "[5, 16, 8, 4, 2, 1]\n",
      "The integer leading to the longest collatz sequence is ◙ 3\n",
      "[3, 10, 5, 16, 8, 4, 2, 1]\n"
     ]
    }
   ],
   "source": [
    "def collatz_sequence(n):\n",
    "    list = []\n",
    "    list.append(n)\n",
    "    while n != 1:\n",
    "        if n % 2 == 0:\n",
    "            # If the # even, n ÷ 2\n",
    "            n = int(n / 2)\n",
    "        else:\n",
    "            # If the # odd, triple it and add 1.\n",
    "            n = 3 * n + 1\n",
    "        list.append(n)\n",
    "    return list\n",
    "\n",
    "\n",
    "def find_longest_collatz(x):\n",
    "    longest_collatz = 0\n",
    "    result = 0\n",
    "    for i in range(1, x):\n",
    "        length = len(collatz_sequence(i))\n",
    "        if length > longest_collatz:\n",
    "            longest_collatz = length\n",
    "            result = i\n",
    "    return 'The integer leading to the longest collatz sequence is ◙ ' + str(result)\n",
    "\n",
    "print(collatz_sequence(5))\n",
    "print(find_longest_collatz(5))\n",
    "print(collatz_sequence(3))\n"
   ]
  },
  {
   "cell_type": "markdown",
   "id": "fa5e7a36",
   "metadata": {},
   "source": [
    "**► Exercise 4.11 → Piv●ts◄**"
   ]
  },
  {
   "cell_type": "code",
   "execution_count": 24,
   "id": "34d9f58c",
   "metadata": {},
   "outputs": [
    {
     "name": "stdout",
     "output_type": "stream",
     "text": [
      "pivot is ♣ 314\n",
      "[170, 313, 314, 640, 703]\n"
     ]
    }
   ],
   "source": [
    "# function has a value x and a list ys\n",
    "def combine_sort(x, ys):\n",
    "    # Initially, I sort the list in ascending order with the .sort()s method.\n",
    "    ys.sort()\n",
    "    for y in ys:\n",
    "        if x <= y:\n",
    "            # element x and then the rest of the values in ys\n",
    "            ys.insert(ys.index(y), x)\n",
    "            break\n",
    "    print(\"pivot is ♣ \" + str(x))\n",
    "    # returns a list that contains the value x and all elements of ys  \n",
    "    return ys\n",
    "\n",
    "print(combine_sort(314, [170, 703, 313, 640]))"
   ]
  },
  {
   "cell_type": "markdown",
   "id": "6e4b3dae",
   "metadata": {},
   "source": [
    "**► Exercise 4.12 → Prime challenge◄**"
   ]
  },
  {
   "cell_type": "code",
   "execution_count": 25,
   "id": "993fdcc1",
   "metadata": {},
   "outputs": [
    {
     "name": "stdout",
     "output_type": "stream",
     "text": [
      "[2, 3, 5, 7, 11, 13, 17, 19, 23, 29, 31, 37, 41, 43, 47, 53, 59, 61, 67, 71, 73, 79, 83, 89, 97, 101]\n"
     ]
    }
   ],
   "source": [
    "def prime_expert(n):\n",
    "    \n",
    "    # len() returns the # of items.\n",
    "    is_prime = lambda n: len([i for i in range(2, n//2 + 1) if n % i == 0]) == 0\n",
    "    return [i for i in range(2, n + 1) if is_prime(i)]\n",
    "\n",
    "print(prime_expert(101))"
   ]
  },
  {
   "cell_type": "markdown",
   "id": "c511ee2c",
   "metadata": {
    "slideshow": {
     "slide_type": "-"
    }
   },
   "source": [
    "# ۩ 5 → Tuples"
   ]
  },
  {
   "cell_type": "markdown",
   "id": "bee0155b",
   "metadata": {},
   "source": [
    "**► Exercise 5.1 → Swapping tw● values◄**"
   ]
  },
  {
   "cell_type": "code",
   "execution_count": 26,
   "id": "a908895d",
   "metadata": {},
   "outputs": [
    {
     "name": "stdout",
     "output_type": "stream",
     "text": [
      "U 2\n"
     ]
    }
   ],
   "source": [
    "a, b = '2', 'U' # The use of commas means that the tuple object has been created.\n",
    "a, b = b, a # one line swap\n",
    "print(a, b)"
   ]
  },
  {
   "cell_type": "markdown",
   "id": "ce522531",
   "metadata": {},
   "source": [
    "**► Exercise 5.2 → Zip◄**"
   ]
  },
  {
   "cell_type": "code",
   "execution_count": 1,
   "id": "87b8cb60",
   "metadata": {},
   "outputs": [
    {
     "name": "stdout",
     "output_type": "stream",
     "text": [
      "[((1, 3), (0, 2)), ((5, 7), (4, 6))]\n",
      "[[(1, 3), (5, 7)], [(0, 2), (4, 6)]]\n"
     ]
    }
   ],
   "source": [
    "# The zip() function sequentially combines the elements in the iterator. \n",
    "# So it concatenates two tuples\n",
    "def _zip(list_x, list_y):\n",
    "    zip_list = list(zip(list_x, list_y))\n",
    "    return zip_list\n",
    "\n",
    "def un_zip(final_zip):\n",
    "    # (Asterisk*) When we type *final_zip, all bundles in final_zip \n",
    "    # are applied as separate arguments to the zip() function\n",
    "    # I took advantage of list comprehension\n",
    "    return [list(l) for l in zip(*final_zip)]\n",
    "\n",
    "a = [(1, 3), (5, 7)]\n",
    "b = [(0, 2), (4, 6)]\n",
    "print(_zip(a, b))\n",
    "# [[(1, 3), (5, 7)], [(0, 2), (4, 6)]]\n",
    "print(un_zip(_zip(a, b)))"
   ]
  },
  {
   "cell_type": "markdown",
   "id": "e2bd8b4d",
   "metadata": {},
   "source": [
    "**► Exercise 5.3 → Distance◄**"
   ]
  },
  {
   "cell_type": "code",
   "execution_count": 1,
   "id": "5dbb37f7",
   "metadata": {},
   "outputs": [
    {
     "name": "stdout",
     "output_type": "stream",
     "text": [
      "l1 and l2 distances between x and y is → 4.69041575982343\n"
     ]
    }
   ],
   "source": [
    "import math\n",
    "import numpy as np\n",
    "# I found the shortest distance between two points\n",
    "# of any size using euclidean distance.\n",
    "def distance(x, y):\n",
    "    # It is the square root of the sum of\n",
    "    # the squares of the difference between two points.\n",
    "    _dist = math.sqrt(sum([(x[i] - y[i])**2 for i in range(len(x))]))\n",
    "    return _dist\n",
    "\n",
    "x = np.array([5,6,7])\n",
    "y = np.array([8,9,9])\n",
    "print('l1 and l2 distances between x and y is →', distance(x, y))"
   ]
  },
  {
   "cell_type": "markdown",
   "id": "8f9b226b",
   "metadata": {},
   "source": [
    "# ۩ 6 → Dicti●naries"
   ]
  },
  {
   "cell_type": "markdown",
   "id": "fad40ad0",
   "metadata": {},
   "source": [
    "**► Exercise 6.1 → Printin a dicti♦nary◄**"
   ]
  },
  {
   "cell_type": "code",
   "execution_count": 28,
   "id": "4c61dd5d",
   "metadata": {},
   "outputs": [
    {
     "name": "stdout",
     "output_type": "stream",
     "text": [
      "name James Harden\n",
      "age 32\n",
      "weight - height ['196', '100']\n",
      "is active player? True\n",
      "team Philadelphia 76ers\n"
     ]
    }
   ],
   "source": [
    "def mydic(dic):\n",
    "    # # I used items() func to be able to return key/value pairs\n",
    "    for key, val in dic.items():\n",
    "        print(key, val)\n",
    "\n",
    "mydic({\n",
    "    'name': 'James Harden',\n",
    "    'age': 32,\n",
    "    'weight - height': ['196', '100'],\n",
    "    'is active player?': True,\n",
    "    'team': 'Philadelphia 76ers'  \n",
    "})"
   ]
  },
  {
   "cell_type": "markdown",
   "id": "c45d08f8",
   "metadata": {},
   "source": [
    "**► Exercise 6.2 → Hist♦gram◄**"
   ]
  },
  {
   "cell_type": "code",
   "execution_count": 29,
   "id": "0057e47e",
   "metadata": {},
   "outputs": [
    {
     "name": "stdout",
     "output_type": "stream",
     "text": [
      "{'L': 1, 'k': 2, 'J': 2, 7: 2, 3.14: 1, True: 2, False: 1}\n",
      "\n",
      "Counter({'k': 2, 'J': 2, 7: 2, True: 2, 'L': 1, 3.14: 1, False: 1})\n",
      "\n",
      "Counter({'k': 2, 'J': 2, 7: 2, True: 2, 'L': 1, 3.14: 1, False: 1})\n"
     ]
    }
   ],
   "source": [
    "import collections\n",
    "\n",
    "def histogram(list):\n",
    "    dic = {}\n",
    "    for ele in list:\n",
    "        if ele in dic:\n",
    "            dic[ele] += 1\n",
    "        else:\n",
    "            dic[ele] = 1\n",
    "    return dic\n",
    "\n",
    "print(histogram([\n",
    "    'L', 'k', 'J',\n",
    "    7, 3.14, 7, True, \n",
    "    False, True, 'k', 'J'  \n",
    "]))\n",
    "\n",
    "# The counter() function returns the number of \n",
    "# elements in iterable (list, tuple e.g) objects.\n",
    "print()\n",
    "print(collections.Counter([\n",
    "    'L', 'k', 'J',\n",
    "    7, 3.14, 7, True, \n",
    "    False, True, 'k', 'J'  \n",
    "]))\n",
    "\n",
    "\n",
    "# I can use a counter but if the queries contain keys that may not be \n",
    "# in the dict, I can have the Counter query the dict in a method and run it.\n",
    "def counter(list):\n",
    "    counter = collections.Counter()\n",
    "    for ele in list:\n",
    "            counter[ele] += 1\n",
    "    return counter\n",
    "print()\n",
    "print(counter([\n",
    "    'L', 'k', 'J',\n",
    "    7, 3.14, 7, True, \n",
    "    False, True, 'k', 'J'  \n",
    "]))\n",
    "\n"
   ]
  },
  {
   "cell_type": "markdown",
   "id": "7a40b2d8",
   "metadata": {},
   "source": [
    "**► Exercise 6.3 → Get meth♦d◄**"
   ]
  },
  {
   "cell_type": "code",
   "execution_count": 30,
   "id": "2b42a9cb",
   "metadata": {},
   "outputs": [
    {
     "name": "stdout",
     "output_type": "stream",
     "text": [
      "{'L': 2, 'k': 2, 'J': 2, 7: 2, 3.14: 1, True: 2, False: 1}\n",
      "\n",
      "James Harden\n"
     ]
    }
   ],
   "source": [
    "def get_method(list):\n",
    "    dic = {}\n",
    "    for ele in list:\n",
    "        # If the key is in the dictionary\n",
    "        if ele in dic:\n",
    "            # get() have key and default value\n",
    "            # returns value\n",
    "            dic[ele] = dic.get(ele, 0) + 1        \n",
    "        else:\n",
    "            # returns default value \n",
    "            dic[ele] = 1\n",
    "    return dic\n",
    "\n",
    "mydic_list = {\n",
    "    'name': 'James Harden',\n",
    "    'age →': 32,\n",
    "    'weight_height': ['196', '100'],\n",
    "    'is_active_player?': True,\n",
    "    'team': 'Philadelphia_76ers'  \n",
    "}\n",
    "\n",
    "\n",
    "print(get_method([\n",
    "    'L', 'k', 'J',\n",
    "    7, 3.14, 7, True, 'L',\n",
    "    False, True, 'k', 'J'\n",
    "]))\n",
    "\n",
    "print()\n",
    "# I created a dictionary called mydic_list, if the value has a key\n",
    "# return the value of the keyword with the help of get().\n",
    "print(mydic_list.get('name'))"
   ]
  },
  {
   "cell_type": "markdown",
   "id": "8d6bc66e",
   "metadata": {},
   "source": [
    "**► Exercise 6.4 → Random text generat♦r◄**"
   ]
  },
  {
   "cell_type": "code",
   "execution_count": 31,
   "id": "de7f2b28",
   "metadata": {},
   "outputs": [
    {
     "name": "stdout",
     "output_type": "stream",
     "text": [
      "[('BEGIN', 'the'), ('the', 'fire'), ('fire', 'and'), ('and', 'the'), ('the', 'wind.'), ('wind.', 'END')]\n"
     ]
    }
   ],
   "source": [
    "def process_line(line):\n",
    "    word_list = []\n",
    "    _words = line.split(\" \")\n",
    "    # Begın → the → fire → and → the → wind. → END\n",
    "    # [('BEGIN', 'in')]\n",
    "    _words.insert(0, 'BEGIN')\n",
    "    #('night', 'END')]\n",
    "    _words.append('END')\n",
    "\n",
    "    len_words = len(_words) - 1\n",
    "    for i in range(len_words):\n",
    "        word_list.append((_words[i], _words[i + 1]))\n",
    "    return word_list\n",
    "\n",
    "\n",
    "txt = \"the fire and the wind.\"\n",
    "print(process_line(txt))"
   ]
  },
  {
   "cell_type": "markdown",
   "id": "a5c95e6f",
   "metadata": {},
   "source": [
    "**► Exercise 6.5 → Vect◘r functions◄**"
   ]
  },
  {
   "cell_type": "code",
   "execution_count": 32,
   "id": "85f41d7f",
   "metadata": {},
   "outputs": [
    {
     "name": "stdout",
     "output_type": "stream",
     "text": [
      "[[10  8]\n",
      " [ 8  9]]\n"
     ]
    }
   ],
   "source": [
    "# (_a)\n",
    "\n",
    "import numpy as np\n",
    "\n",
    "def add_vectors(v1, v2):\n",
    "    if (len(v1) == len(v2)):\n",
    "        # if dimensions equal, two vectors add\n",
    "        coord = v1 + v2\n",
    "        print(coord)  \n",
    "    else:     \n",
    "        print('not equal dimensions')\n",
    "# .array represent vectors\n",
    "v1 = np.array([[3, 3],[5, 7]])\n",
    "v2 = np.array([[7, 5],[3, 2]])\n",
    "\n",
    "add_vectors(v1, v2)"
   ]
  },
  {
   "cell_type": "code",
   "execution_count": 33,
   "id": "bbb613a7",
   "metadata": {},
   "outputs": [
    {
     "name": "stdout",
     "output_type": "stream",
     "text": [
      "67\n"
     ]
    }
   ],
   "source": [
    "# (_b)\n",
    "\n",
    "import numpy as np\n",
    "\n",
    "def inproduct(v1, v2):\n",
    "    a = np.array(v1)\n",
    "    b = np.array(v2)\n",
    "    # I can also use the .dot() function here, but it often doesn't \n",
    "    # give the same result. I got the result of .inner() function\n",
    "    # faster than dot in terms of performance.\n",
    "    product = np.inner(a, b)\n",
    "    print(product)\n",
    "\n",
    "v1 = [1, 4]\n",
    "v2 = [11, 14]\n",
    "# 1•11 + 4•14 = 67\n",
    "inproduct(v1, v2)"
   ]
  },
  {
   "cell_type": "code",
   "execution_count": 34,
   "id": "28ad73c8",
   "metadata": {},
   "outputs": [
    {
     "name": "stdout",
     "output_type": "stream",
     "text": [
      "Vector A\n",
      "[[1 0 0]\n",
      " [1 0 3]]\n",
      "Vector B\n",
      "[[1 2 0]\n",
      " [0 0 4]]\n",
      "\n",
      "two sparse vectors add\n",
      "  (0, 0)\t2\n",
      "  (0, 1)\t2\n",
      "  (1, 0)\t1\n",
      "  (1, 2)\t7\n"
     ]
    }
   ],
   "source": [
    "# (_c)\n",
    "\n",
    "import numpy as np\n",
    "from scipy import sparse\n",
    "\n",
    "# Storing sparse vectors in a two-dimensional vector data structure \n",
    "# causes performance loss. Instead, we can use the .csr_matrix() method\n",
    "# to transform dense and sparse vectors.\n",
    "def add_sparse(v1, v2):\n",
    "    sa = sparse.csr_matrix(np.array(v1))\n",
    "    sb = sparse.csr_matrix(np.array(v2))\n",
    "    sc = sa + sb\n",
    "    print(sc)\n",
    "    \n",
    "print('Vector A')\n",
    "A = np.array([[1,0,0],[1,0,3]])\n",
    "print((A))\n",
    "print('Vector B')\n",
    "B = np.array([[1,2,0],[0,0,4]])\n",
    "print((B))\n",
    "print()\n",
    "print('two sparse vectors add')\n",
    "add_sparse(A, B)"
   ]
  },
  {
   "cell_type": "code",
   "execution_count": 35,
   "id": "a2bd0724",
   "metadata": {},
   "outputs": [
    {
     "name": "stdout",
     "output_type": "stream",
     "text": [
      "[[0 0 1]\n",
      " [2 0 0]\n",
      " [0 1 3]]    [2 1 5]\n",
      "\n",
      "▼ Product of two sparse vectors ▼\n",
      "[[ 0  0  5]\n",
      " [ 4  0  0]\n",
      " [ 0  1 15]]\n"
     ]
    }
   ],
   "source": [
    "# (_d)\n",
    "\n",
    "import numpy as np\n",
    "from scipy import sparse\n",
    "\n",
    "def multiplies_sparse(v1, v2):\n",
    "    # I can use .multiply() method to do multiplication(Product of two sparse vectors)\n",
    "    multiplies = sparse.csr_matrix(v1).multiply(sparse.csr_matrix(v2)).todense()\n",
    "    print(multiplies)\n",
    "\n",
    "a = np.array([[0, 0, 1],[2, 0, 0],[0, 1, 3]])\n",
    "b = np.array([2, 1, 5])\n",
    "\n",
    "print(a, '  ', b)\n",
    "print()\n",
    "print('▼ Product of two sparse vectors ▼')\n",
    "multiplies_sparse(a, b)"
   ]
  },
  {
   "cell_type": "code",
   "execution_count": 36,
   "id": "5ff40de5",
   "metadata": {},
   "outputs": [
    {
     "name": "stdout",
     "output_type": "stream",
     "text": [
      "▼ Add of sparse and dense vectors ▼\n",
      "[[3 3]\n",
      " [5 7]]\n",
      "\n",
      "  (0, 0)\t7\n",
      "  (0, 1)\t5\n",
      "  (1, 0)\t3\n",
      "  (1, 1)\t2\n",
      "\n",
      "[[10  8]\n",
      " [ 8  9]]\n"
     ]
    }
   ],
   "source": [
    "# (_e)\n",
    "\n",
    "import numpy as np\n",
    "from scipy import sparse\n",
    "\n",
    "\n",
    "def add_dense_sparse(v1, v2):\n",
    "    dense_v1 = np.array(v1)\n",
    "    print(dense_v1)\n",
    "    print()\n",
    "    sparse_v2 = sparse.csr_matrix(np.array(v2))\n",
    "    print(sparse_v2)\n",
    "    print()\n",
    "    add = dense_v1 + sparse_v2\n",
    "    return add\n",
    "\n",
    "\n",
    "v1 = [[3, 3],[5, 7]]\n",
    "v2 = [[7, 5],[3, 2]]\n",
    "print('▼ Add of sparse and dense vectors ▼')\n",
    "print(add_dense_sparse(v1, v2))"
   ]
  },
  {
   "cell_type": "code",
   "execution_count": 37,
   "id": "8d750659",
   "metadata": {},
   "outputs": [
    {
     "name": "stdout",
     "output_type": "stream",
     "text": [
      "[[2 5]\n",
      " [6 1]]\n",
      "\n",
      "  (0, 0)\t1\n",
      "  (0, 1)\t9\n",
      "  (1, 0)\t1\n",
      "  (1, 1)\t7\n",
      "\n",
      "▼ Product of sparse and dense vectors ▼\n",
      " [[ 7 53]\n",
      " [ 7 61]]\n"
     ]
    }
   ],
   "source": [
    "# (_f)\n",
    "\n",
    "import numpy as np\n",
    "from scipy import sparse\n",
    "\n",
    "\n",
    "def multiplies_dense_sparse(v1, v2):\n",
    "    dense_v1 = np.array(v1)\n",
    "    print(dense_v1)\n",
    "    print()\n",
    "    sparse_v2 = sparse.csr_matrix(np.array(v2))\n",
    "    print(sparse_v2)\n",
    "    print()\n",
    "    multiplies = sparse.csr_matrix.dot(dense_v1, sparse_v2.todense())\n",
    "    return multiplies\n",
    "\n",
    "\n",
    "v1 = [[2, 5], [6, 1]]\n",
    "v2 = [[1, 9], [1, 7]]\n",
    "print('▼ Product of sparse and dense vectors ▼\\n', multiplies_dense_sparse(v1, v2))"
   ]
  },
  {
   "cell_type": "markdown",
   "id": "0c00b7c3",
   "metadata": {},
   "source": [
    "**► Exercise 6.6 → Reverse l♦♦k-up◄**"
   ]
  },
  {
   "cell_type": "code",
   "execution_count": 38,
   "id": "2ba6376c",
   "metadata": {},
   "outputs": [
    {
     "name": "stdout",
     "output_type": "stream",
     "text": [
      "Kurt Cobain\n",
      "Janis Joplin\n",
      "Amy Winehouse\n",
      "Jimi Hendrix\n"
     ]
    }
   ],
   "source": [
    "# I assigned a variable named dic(dictionary) \n",
    "# and val inside the function.\n",
    "def with_value(dic, input):\n",
    "    # Then I looped the list of (key, value) pairs \n",
    "    # for a given dictionary using the .items() method.\n",
    "    # .items() takes no parameters.\n",
    "    for k, v in dic.items():\n",
    "        # I would return k(key) \n",
    "        # if v (value) equals the value given in the input.\n",
    "        if v == input:\n",
    "            print(k)\n",
    "    \n",
    "age_list = {\n",
    "    'Kurt Cobain': 27,\n",
    "    'James Hetfield': 59,\n",
    "    'Yavuz Çetin': 31,\n",
    "    'Janis Joplin': 27,\n",
    "    'Kobe Bryant': 42,\n",
    "    'Amy Winehouse': 27,\n",
    "    'Diego Maradona': 60,\n",
    "    'Jimi Hendrix': 27\n",
    "}\n",
    "            \n",
    "with_value(age_list, 27)"
   ]
  }
 ],
 "metadata": {
  "kernelspec": {
   "display_name": "Python 3 (ipykernel)",
   "language": "python",
   "name": "python3"
  },
  "language_info": {
   "codemirror_mode": {
    "name": "ipython",
    "version": 3
   },
   "file_extension": ".py",
   "mimetype": "text/x-python",
   "name": "python",
   "nbconvert_exporter": "python",
   "pygments_lexer": "ipython3",
   "version": "3.10.0"
  }
 },
 "nbformat": 4,
 "nbformat_minor": 5
}
